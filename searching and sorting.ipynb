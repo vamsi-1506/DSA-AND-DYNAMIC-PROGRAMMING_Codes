{
 "cells": [
  {
   "cell_type": "code",
   "execution_count": 11,
   "id": "9875d7ca-79b6-4cb6-809d-df019ac3c079",
   "metadata": {},
   "outputs": [
    {
     "name": "stdout",
     "output_type": "stream",
     "text": [
      "no of occurences 4\n"
     ]
    }
   ],
   "source": [
    "def findFirstOccurrence(nums, target):\n",
    "    n = len(nums)\n",
    "    left, right = 0, n - 1 \n",
    "    result = -1 \n",
    "    while left <= right:\n",
    "        mid = (left + right) // 2 \n",
    "        if nums[mid] == target:\n",
    "            result = mid \n",
    "            right = mid - 1 #for ending index \n",
    "        elif nums[mid] > target:\n",
    "            right = mid - 1 \n",
    "        else:\n",
    "            left = mid + 1 \n",
    " \n",
    "    return result\n",
    "\n",
    "def findlastOccurrence(nums, target):\n",
    "    n = len(nums)\n",
    "    left, right = 0, n - 1 \n",
    "    result = -1 \n",
    "    while left <= right:\n",
    "        mid = (left + right) // 2 \n",
    "        if nums[mid] == target:\n",
    "            result = mid \n",
    "            left = mid + 1 # --> for starting index of occurence of number\n",
    "        elif nums[mid] > target:\n",
    "            right = mid - 1 \n",
    "        else:\n",
    "            left = mid + 1 \n",
    " \n",
    "    return result\n",
    "\n",
    "\n",
    " \n",
    "nums = [1, 2, 3, 4, 4, 4, 4, 6, 7]\n",
    "a=findFirstOccurrence(nums, 4)\n",
    "b=findlastOccurrence(nums, 4)\n",
    "print('no of occurences',b-a+1)"
   ]
  },
  {
   "cell_type": "code",
   "execution_count": 16,
   "id": "86cac109-060b-4c19-8344-6f3e8d0d17bb",
   "metadata": {},
   "outputs": [
    {
     "name": "stdout",
     "output_type": "stream",
     "text": [
      "not found\n"
     ]
    }
   ],
   "source": [
    "def linsearch(a,ele,i):\n",
    "    if a[i]==ele:\n",
    "        return 1\n",
    "    elif i==len(a)-1:\n",
    "        return 0\n",
    "    return linsearch(a,ele,i+1)\n",
    "a=[22,33,1,2,11]\n",
    "a1=linsearch(a,3,0)\n",
    "if a1:\n",
    "    print('found')\n",
    "else:\n",
    "    print('not found')"
   ]
  },
  {
   "cell_type": "code",
   "execution_count": 9,
   "id": "d85094dd-d61e-4f31-a71a-8777fb1547a4",
   "metadata": {},
   "outputs": [
    {
     "name": "stdout",
     "output_type": "stream",
     "text": [
      "not found\n"
     ]
    }
   ],
   "source": [
    "def binsearch(a,ele,i,n):\n",
    "    i1=(i+n)//2\n",
    "    if a[i1]==ele:\n",
    "        return 1\n",
    "    elif i==n-1:\n",
    "        return 0\n",
    "    if ele<a[i1]:\n",
    "        return binsearch(a,ele,i,i1)\n",
    "    elif ele>a[i1]:\n",
    "        return binsearch(a,ele,i1+1,n)\n",
    "a=[1,2,3,4]\n",
    "a1=binsearch(a,82,0,len(a))\n",
    "if a1:\n",
    "    print('found')\n",
    "else:\n",
    "    print('not found')"
   ]
  },
  {
   "cell_type": "code",
   "execution_count": 26,
   "id": "dfd356cd-6f79-43de-80fe-4bbc41b14667",
   "metadata": {},
   "outputs": [
    {
     "name": "stdout",
     "output_type": "stream",
     "text": [
      "Before sorting: [8, 1, 7, 6, 5, 4, 3, 2, 1, 1, 2, 2, 4, 4, 4, 4, 6]\n",
      "After sorting: [1, 1, 1, 2, 2, 2, 3, 4, 4, 4, 4, 4, 5, 6, 6, 7, 8]\n"
     ]
    }
   ],
   "source": [
    "def performCountingSort(nums):\n",
    "    n = len(nums)\n",
    "    temp = [-1] * n\n",
    "    # step-1: finding max \n",
    "    mx = max(nums)\n",
    " \n",
    "    # step-2: creating (max + 1) length list with zeroes \n",
    "    store = [0] * (mx + 1)\n",
    " \n",
    "    # step-3: finding each element frequency \n",
    "    for ele in nums:\n",
    "        store[ele] += 1 \n",
    " \n",
    " \n",
    "    # step-4: calculating prefix sum \n",
    "    for index in range(1, mx + 1):\n",
    "        store[index] += store[index - 1]\n",
    "\n",
    "    # step-5: traverse from right to left and place the element at appropriate index \n",
    "    for index in range(n - 1, -1, -1):\n",
    "        ele = nums[index]\n",
    "        store[ele] -= 1 \n",
    "        temp[store[ele]] = ele\n",
    " \n",
    " \n",
    "    # step-6: (optional) copy the temp output list to main list\n",
    "    for index in range(n):\n",
    "        nums[index] = temp[index]\n",
    " \n",
    " \n",
    " \n",
    "nums = [8, 1, 7, 6, 5, 4, 3, 2, 1, 1, 2, 2, 4, 4, 4, 4, 6]\n",
    " \n",
    "print(\"Before sorting:\", nums)\n",
    "performCountingSort(nums)\n",
    "print(\"After sorting:\", nums)\n",
    "\n",
    "# it is not efficient for sorting marices like [100000,1] \n",
    "# For matrix like [10,-20,-3,12] we can find min(matrix) and add it to whole list and perform counting sort and after getting the output \n",
    "# subtract that min "
   ]
  },
  {
   "cell_type": "code",
   "execution_count": 2,
   "id": "e62228d0-ada7-4772-b0a8-f1670728d233",
   "metadata": {},
   "outputs": [
    {
     "name": "stdout",
     "output_type": "stream",
     "text": [
      "Before sorting: [8, 1, 7, 6, 5, 4, 3, 2, 10, 20, -1, -5]\n",
      "After sorting: [-5, -1, 1, 2, 3, 4, 5, 6, 7, 8, 10, 20]\n"
     ]
    }
   ],
   "source": [
    "def mergeThoseTwoArrays(nums, left, mid, right):\n",
    "    # left subarray --> [left, mid]\n",
    "    # right subarray --> [mid + 1, right]\n",
    "    temp = []\n",
    "    index1 = left \n",
    "    index2 = mid + 1 \n",
    " \n",
    "    while index1 <= mid and index2 <= right:\n",
    "        if nums[index1] > nums[index2]:\n",
    "            temp.append(nums[index2])\n",
    "            index2 += 1 \n",
    "        else:\n",
    "            temp.append(nums[index1])\n",
    "            index1 += 1 \n",
    " \n",
    "    while index1 <= mid:\n",
    "        temp.append(nums[index1])\n",
    "        index1 += 1 \n",
    " \n",
    "    while index2 <= right:\n",
    "        temp.append(nums[index2])\n",
    "        index2 += 1 \n",
    " \n",
    " \n",
    "    position = 0 \n",
    "    for index in range(left, right + 1):\n",
    "        nums[index] = temp[position]\n",
    "        position += 1 \n",
    " \n",
    " \n",
    "def divideAndMerge(nums, left, right):\n",
    "    if left >= right:\n",
    "        return \n",
    " \n",
    "    mid = (left + right) // 2 \n",
    "    # left subarray --> [left, mid]\n",
    "    # right subarray --> [mid + 1, right]\n",
    " \n",
    "    divideAndMerge(nums, left, mid)\n",
    "    divideAndMerge(nums, mid + 1, right)\n",
    "    mergeThoseTwoArrays(nums, left, mid, right)\n",
    " \n",
    " \n",
    " \n",
    " \n",
    " \n",
    "def performMergeSort(nums):\n",
    "    n = len(nums)\n",
    "    divideAndMerge(nums, 0, n - 1)\n",
    " \n",
    " \n",
    " \n",
    " \n",
    "nums = [8, 1, 7, 6, 5, 4, 3, 2, 10, 20, -1, -5]\n",
    " \n",
    "print(\"Before sorting:\", nums)\n",
    "performMergeSort(nums)\n",
    "print(\"After sorting:\", nums)"
   ]
  },
  {
   "cell_type": "code",
   "execution_count": 4,
   "id": "e55b0974-d3f4-498b-be2f-502742afe79d",
   "metadata": {},
   "outputs": [
    {
     "name": "stdout",
     "output_type": "stream",
     "text": [
      "[-3, 2, 34, 44, 56, 69]\n"
     ]
    }
   ],
   "source": [
    "def quicksort(a,l,h):\n",
    "    if l<h:\n",
    "        p=partition(a,l,h)\n",
    "        quicksort(a,l,p-1)\n",
    "        quicksort(a,p+1,h)\n",
    "\n",
    "def partition(a,l,h):\n",
    "    pi=a[h]\n",
    "    i=l-1\n",
    "    for j in range(l,h):\n",
    "        if a[j]<pi:\n",
    "            i+=1\n",
    "            a[i],a[j]=a[j],a[i]\n",
    "    a[i+1],a[h]=a[h],a[i+1]\n",
    "    return i+1\n",
    "a=[34,56,2,44,-3,69]\n",
    "quicksort(a,0,len(a)-1)\n",
    "print(a)"
   ]
  },
  {
   "cell_type": "code",
   "execution_count": 4,
   "id": "9100a4cd-10fd-428b-89fc-cde07a88d62d",
   "metadata": {},
   "outputs": [
    {
     "name": "stdout",
     "output_type": "stream",
     "text": [
      "[1, 2, 3, 4, 5]\n"
     ]
    }
   ],
   "source": [
    "def selectionsort(a):\n",
    "    for i in range(len(a)-1):\n",
    "        min_index=i\n",
    "        for j in range(i+1,len(a)):\n",
    "            if a[j]<a[min_index]:\n",
    "                min_index=j\n",
    "        a[i],a[min_index]=a[min_index],a[i]\n",
    "    print(a)\n",
    "selectionsort([3,4,2,5,1])"
   ]
  },
  {
   "cell_type": "code",
   "execution_count": 5,
   "id": "4e086867-4227-41b5-a799-2b7e6d623ce9",
   "metadata": {},
   "outputs": [
    {
     "name": "stdout",
     "output_type": "stream",
     "text": [
      "[1, 2, 3, 4, 5]\n"
     ]
    }
   ],
   "source": [
    "def bubblesort(a):\n",
    "    for i in range(len(a)-1):\n",
    "        for j in range(len(a)-1):\n",
    "            if a[j]>a[j+1]:\n",
    "                a[j],a[j+1]=a[j+1],a[j]\n",
    "    print(a)\n",
    "bubblesort([3,4,2,5,1])"
   ]
  },
  {
   "cell_type": "code",
   "execution_count": 1,
   "id": "31ad0464-1a89-4732-9158-b9f96d9d1172",
   "metadata": {},
   "outputs": [
    {
     "name": "stdout",
     "output_type": "stream",
     "text": [
      "Before sorting: [8, 1, 7, 6, 5, 4, 3, 2]\n",
      "After sorting: [1, 2, 3, 4, 5, 6, 7, 8]\n"
     ]
    }
   ],
   "source": [
    "def performBubbleSort(nums, n):\n",
    "    if n == 1:\n",
    "        return \n",
    " \n",
    "    # last index is (n - 1)\n",
    "    for index in range(n - 1):\n",
    "        if nums[index] > nums[index + 1]:\n",
    "            nums[index], nums[index + 1] = nums[index + 1], nums[index]\n",
    " \n",
    "    performBubbleSort(nums, n - 1)    \n",
    " \n",
    " \n",
    "def performSelectionSort(nums, n):\n",
    "    if n == 1:\n",
    "        return \n",
    " \n",
    "    # fix (n-1)th index \n",
    "    maxEleIndex = n - 1 \n",
    "    for index in range(n - 1):\n",
    "        if nums[index] > nums[maxEleIndex]:\n",
    "            maxEleIndex = index \n",
    " \n",
    "    if maxEleIndex != n - 1:\n",
    "        nums[maxEleIndex], nums[n - 1] = nums[n - 1], nums[maxEleIndex]\n",
    " \n",
    "    performSelectionSort(nums, n - 1)\n",
    " \n",
    " \n",
    " \n",
    "def performInsertionSort(nums, n):\n",
    "    if n == 1:\n",
    "        return \n",
    " \n",
    " \n",
    "    performInsertionSort(nums, n - 1)\n",
    "    # nums = [1, 3, 4, 5, 6, 7, 8, 2]\n",
    "    # nums = [1, 3, 3, 4, 5, 6, 7, 8]\n",
    "    currValue = nums[n - 1]\n",
    "    prevIndex = n - 2\n",
    "    while prevIndex >= 0:\n",
    "        if nums[prevIndex] > currValue:\n",
    "            nums[prevIndex + 1] = nums[prevIndex]\n",
    "        else:\n",
    "            break \n",
    "        prevIndex -= 1 \n",
    "    nums[prevIndex + 1] = currValue\n",
    " \n",
    " \n",
    "def performCountingSort(nums, n):\n",
    "    pass\n",
    " \n",
    "nums = [8, 1, 7, 6, 5, 4, 3, 2]\n",
    " \n",
    "print(\"Before sorting:\", nums)\n",
    "performInsertionSort(nums, len(nums))\n",
    "print(\"After sorting:\", nums)"
   ]
  },
  {
   "cell_type": "code",
   "execution_count": null,
   "id": "7dee8a7b-9e3a-49aa-a79c-b2445d3dcb0f",
   "metadata": {},
   "outputs": [],
   "source": []
  }
 ],
 "metadata": {
  "kernelspec": {
   "display_name": "Python 3 (ipykernel)",
   "language": "python",
   "name": "python3"
  },
  "language_info": {
   "codemirror_mode": {
    "name": "ipython",
    "version": 3
   },
   "file_extension": ".py",
   "mimetype": "text/x-python",
   "name": "python",
   "nbconvert_exporter": "python",
   "pygments_lexer": "ipython3",
   "version": "3.11.3"
  }
 },
 "nbformat": 4,
 "nbformat_minor": 5
}
