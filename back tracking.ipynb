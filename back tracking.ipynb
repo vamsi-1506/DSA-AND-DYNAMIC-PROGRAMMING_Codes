{
 "cells": [
  {
   "cell_type": "code",
   "execution_count": 2,
   "id": "c4447510-86e2-4721-a28e-66c0a22bfefc",
   "metadata": {},
   "outputs": [
    {
     "name": "stdout",
     "output_type": "stream",
     "text": [
      "000 : 0\n",
      "001 : 1\n",
      "010 : 2\n",
      "011 : 3\n",
      "100 : 4\n",
      "101 : 5\n",
      "110 : 6\n",
      "111 : 7\n"
     ]
    }
   ],
   "source": [
    "#1\n",
    "def binarynumbers(n,s):\n",
    "    if len(s)==n:\n",
    "        print(s,\":\",int(s,2))\n",
    "        return\n",
    "    b(n,s+'0')\n",
    "    b(n,s+'1')\n",
    "n=3\n",
    "binarynumbers(n,'')"
   ]
  },
  {
   "cell_type": "code",
   "execution_count": 5,
   "id": "f68d7e48-074f-45d5-8305-ee005a5250e9",
   "metadata": {},
   "outputs": [
    {
     "name": "stdout",
     "output_type": "stream",
     "text": [
      "(())\n",
      "()()\n"
     ]
    }
   ],
   "source": [
    "#2\n",
    "def generate_parentheses(n, s='', open=0, close=0):\n",
    "    if len(s) ==  n:\n",
    "        print(s)\n",
    "        return\n",
    "    if open < n/2:\n",
    "        generate_parentheses(n, s + '(', open + 1, close)\n",
    "        #print(s)\n",
    "    if close < open:\n",
    "        generate_parentheses(n, s + ')', open, close + 1)\n",
    "\n",
    "n = 4\n",
    "if n%2!=0:\n",
    "    print('not posibble')\n",
    "else:\n",
    " generate_parentheses(n)"
   ]
  },
  {
   "cell_type": "code",
   "execution_count": 3,
   "id": "aeb468b5-2211-4d4c-9c89-c27257883cc9",
   "metadata": {},
   "outputs": [
    {
     "name": "stdout",
     "output_type": "stream",
     "text": [
      "[1, 2, 3]\n",
      "[1, 2]\n",
      "[1, 3]\n",
      "[1]\n",
      "[2, 3]\n",
      "[2]\n",
      "[3]\n",
      "[]\n"
     ]
    }
   ],
   "source": [
    "#3\n",
    "def subset(a,result,i,n):\n",
    "   if i==n:\n",
    "       print(result)\n",
    "       return \n",
    "   result.append(a[i])\n",
    "   subset(a,result,i+1,n)\n",
    "   result.pop()\n",
    "   subset(a,result,i+1,n)\n",
    "a=[1,2,3]\n",
    "subset(a,[],0,len(a))"
   ]
  },
  {
   "cell_type": "code",
   "execution_count": 7,
   "id": "90238d55-099d-406a-9d57-536c9a8527b1",
   "metadata": {},
   "outputs": [
    {
     "name": "stdout",
     "output_type": "stream",
     "text": [
      "adg,adh,adi,aeg,aeh,aei,afg,afh,afi,bdg,bdh,bdi,beg,beh,bei,bfg,bfh,bfi,cdg,cdh,cdi,ceg,ceh,cei,cfg,cfh,cfi,"
     ]
    }
   ],
   "source": [
    "#4\n",
    "store = {}\n",
    "store[\"1\"] = \"\"\n",
    "store[\"2\"] = \"abc\"\n",
    "store[\"3\"] = \"def\"\n",
    "store[\"4\"] = \"ghi\"\n",
    "store[\"5\"] = \"jkl\"\n",
    "store[\"6\"] = \"mno\"\n",
    "store[\"7\"] = \"pqrs\"\n",
    "store[\"8\"] = \"tuv\"\n",
    "store[\"9\"] = \"wxyz\"\n",
    " \n",
    "\n",
    "def phonenumber( word, index, result, bigResult):\n",
    "        if index == len(word):\n",
    "            print(\"\".join(result),end=',')\n",
    "            return\n",
    " \n",
    "        ch = word[index]\n",
    "        for val in store[ch]:\n",
    "            result.append(val)\n",
    "            #print(result)\n",
    "            phonenumber(word, index + 1, result, bigResult)\n",
    "            #printLetter(word, index + 1, result, bigResult)\n",
    "            result.pop()\n",
    "phonenumber('234', 0, [],[])"
   ]
  },
  {
   "cell_type": "code",
   "execution_count": 9,
   "id": "58bdc87e-2cb1-46d8-b6c7-2804a5c35adc",
   "metadata": {},
   "outputs": [
    {
     "name": "stdout",
     "output_type": "stream",
     "text": [
      "RDDDRR\n",
      "RDDRDR\n"
     ]
    }
   ],
   "source": [
    "#5\n",
    "def findAllWays(x, y, matrix, N, path, visited):\n",
    "\t# Border checks\n",
    "\tif x < 0 or x == N or y < 0 or y == N:\n",
    "\t\treturn\n",
    " \n",
    "\t# Condition to check whether we can traverse via those coordinates or not\n",
    "\tif matrix[x][y] == 0 or visited[x][y] == True:\n",
    "\t\treturn\n",
    " \n",
    "\t# Condition to check whether we've reached our final coordinates or not\n",
    "\tif x == N - 1 and y == N - 1:\n",
    "\t\tprint(\"\".join(path))\n",
    "\t\treturn\n",
    " \n",
    "\tvisited[x][y] = True \n",
    "    \n",
    "\t# Top Direction\n",
    "\tpath.append(\"U\")\n",
    "\tfindAllWays(x - 1, y, matrix, N, path, visited)\n",
    "\tpath.pop()\n",
    " \n",
    "\t# Bottom Direction\n",
    "\tpath.append(\"D\")\n",
    "\tfindAllWays(x + 1, y, matrix, N, path, visited)\n",
    "\tpath.pop()\n",
    " \n",
    "\t# Left Direction \n",
    "\tpath.append(\"L\")\n",
    "\tfindAllWays(x, y - 1, matrix, N, path, visited)\n",
    "\tpath.pop()\n",
    " \n",
    "\t# Right Direction\n",
    "\tpath.append(\"R\")\n",
    "\tfindAllWays(x, y + 1, matrix, N, path, visited)\n",
    "\tpath.pop()\n",
    "\tvisited[x][y]=False\n",
    " \n",
    " \n",
    "path = []\n",
    "visited = []\n",
    "matrix = [[1, 1,1,1],[0,1,0,1],[0,1,1,0],[0,1,1,1]]\n",
    "n = len(matrix)\n",
    " \n",
    "for i in range(n):\n",
    "\teachRow = []\n",
    "\tfor j in range(n):\n",
    "\t\teachRow.append(False)\n",
    "\tvisited.append(eachRow)\n",
    "findAllWays(0, 0, matrix, n, path, visited)"
   ]
  },
  {
   "cell_type": "code",
   "execution_count": 34,
   "id": "dddea874-b7fa-4324-b5f4-dee37b4c58c6",
   "metadata": {},
   "outputs": [
    {
     "name": "stdout",
     "output_type": "stream",
     "text": [
      "Number of ways to reach the bottom-right corner: 12\n"
     ]
    }
   ],
   "source": [
    "def findAllWays(x, y, matrix, N, visited):\n",
    "    # Border checks\n",
    "    if x < 0 or x == N or y < 0 or y == N:\n",
    "        return 0\n",
    "\n",
    "    # Condition to check whether we can traverse via those coordinates or not\n",
    "    if matrix[x][y] == 0 or visited[x][y]:\n",
    "        return 0\n",
    "\n",
    "    # Condition to check whether we've reached our final coordinates or not\n",
    "    if x == N - 1 and y == N - 1:\n",
    "        return 1\n",
    "\n",
    "    visited[x][y] = True\n",
    "\n",
    "    # Initialize count for each direction\n",
    "    count = 0\n",
    "\n",
    "    # Top Direction\n",
    "    findAllWays(x - 1, y, matrix, N, visited)\n",
    "    \n",
    "    # Bottom Direction\n",
    "    count += findAllWays(x + 1, y, matrix, N, visited)\n",
    "    \n",
    "    # Left Direction \n",
    "    count += findAllWays(x, y - 1, matrix, N, visited)\n",
    "    \n",
    "    # Right Direction\n",
    "    count += findAllWays(x, y + 1, matrix, N, visited)\n",
    "    \n",
    "    visited[x][y] = False\n",
    "    \n",
    "    return count\n",
    "\n",
    "matrix = [[1, 1, 1, 1], [0, 1, 1, 1], [0, 1, 1, 0], [0, 1, 1, 1]]\n",
    "n = len(matrix)\n",
    "visited = [[False] * n for _ in range(n)]\n",
    "\n",
    "# Call the function and print the number of ways\n",
    "number_of_ways = findAllWays(0, 0, matrix, n, visited)\n",
    "print(\"Number of ways to reach the bottom-right corner:\", number_of_ways)\n"
   ]
  },
  {
   "cell_type": "code",
   "execution_count": 10,
   "id": "ca582acf-e1d2-42cd-a42f-ad01a6463546",
   "metadata": {},
   "outputs": [
    {
     "name": "stdout",
     "output_type": "stream",
     "text": [
      "Move 1st disc from source to extraSpace\n",
      "Move 2 th disc from source to destination\n",
      "Move 1st disc from extraSpace to destination\n",
      "Move 3 th disc from source to extraSpace\n",
      "Move 1st disc from destination to source\n",
      "Move 2 th disc from destination to extraSpace\n",
      "Move 1st disc from source to extraSpace\n",
      "Move 4 th disc from source to destination\n",
      "Move 1st disc from extraSpace to destination\n",
      "Move 2 th disc from extraSpace to source\n",
      "Move 1st disc from destination to source\n",
      "Move 3 th disc from extraSpace to destination\n",
      "Move 1st disc from source to extraSpace\n",
      "Move 2 th disc from source to destination\n",
      "Move 1st disc from extraSpace to destination\n"
     ]
    }
   ],
   "source": [
    "#6\n",
    "def moveAllDiscs(n, src, extra, dest):\n",
    "    if n == 1:\n",
    "        print(\"Move 1st disc from\", src, \"to\", dest)\n",
    "        return \n",
    "    # Moving all (n - 1) discs from src to extra \n",
    "    # using dest as extraSpace\n",
    "    #print(\"Move\", n, \"th disc from\", src, \"to\", dest)\n",
    "    moveAllDiscs(n - 1, src, dest, extra)\n",
    "    print(\"Move\", n, \"th disc from\", src, \"to\", dest)\n",
    "    moveAllDiscs(n - 1, extra, src, dest)\n",
    " \n",
    "moveAllDiscs(4, \"source\", \"extraSpace\", \"destination\")\n",
    "#print(\"\\n\\n\\n\\n\\n\")\n"
   ]
  },
  {
   "cell_type": "code",
   "execution_count": 11,
   "id": "320884b7-ee09-4786-b74d-2db044dc7f30",
   "metadata": {},
   "outputs": [
    {
     "name": "stdout",
     "output_type": "stream",
     "text": [
      "1 2 3 4 5 6 7 8 9 \n",
      "1 2 3 4 5 6 7 8 9 \n",
      "1 2 3 4 5 6 7 8 9 \n",
      "1 2 3 4 5 6 7 8 9 \n",
      "1 2 3 4 5 6 7 8 9 \n",
      "1 2 3 4 5 6 7 8 9 \n",
      "1 2 3 4 5 6 7 8 9 \n",
      "1 2 3 4 5 6 7 8 9 \n",
      "1 2 3 4 5 6 7 8 9 \n",
      "Traversal completed\n"
     ]
    }
   ],
   "source": [
    "#7\n",
    "def printMatrix(x, y, board,i):\n",
    "    if x == 9:\n",
    "        print(\"Traversal completed\")\n",
    "        return \n",
    "    \n",
    "    print(board[x][y], end = \" \")\n",
    "    nextX, nextY = -1, -1 \n",
    " \n",
    "    if y == 8:\n",
    "        nextX = x + 1 \n",
    "        nextY = 0 \n",
    "        print()\n",
    "    else:\n",
    "        nextX = x \n",
    "        nextY = y + 1\n",
    "\n",
    "    if board[x][y]=='':\n",
    "        return\n",
    "\n",
    "    printMatrix(nextX, nextY, board,i+1)\n",
    " \n",
    " \n",
    "board = []\n",
    "for i in range(9):\n",
    "    row = []\n",
    "    for j in range(1, 10):\n",
    "        row.append(j)\n",
    "    board.append(row)\n",
    "#print(board)\n",
    "printMatrix(0, 0, board,0)"
   ]
  },
  {
   "cell_type": "code",
   "execution_count": 12,
   "id": "aba18eb5-45ac-4197-b6bc-96d92b06bda3",
   "metadata": {},
   "outputs": [
    {
     "name": "stdout",
     "output_type": "stream",
     "text": [
      "8\n"
     ]
    }
   ],
   "source": [
    "#8\n",
    "def fib(n):\n",
    "    if n==0:\n",
    "        return 0\n",
    "    if n==1:\n",
    "        return 1\n",
    "    return fib(n-1)+fib(n-2)\n",
    "\n",
    "n=6\n",
    "a=fib(n)\n",
    "print(a)"
   ]
  },
  {
   "cell_type": "code",
   "execution_count": 33,
   "id": "1b267811-77f2-4682-bb34-c7072a971903",
   "metadata": {},
   "outputs": [
    {
     "name": "stdout",
     "output_type": "stream",
     "text": [
      "['5', '3', '4', '6', '7', '8', '9', '1', '2']\n",
      "['6', '7', '2', '1', '9', '5', '3', '4', '8']\n",
      "['1', '9', '8', '3', '4', '2', '5', '6', '7']\n",
      "['8', '5', '9', '7', '6', '1', '4', '2', '3']\n",
      "['4', '2', '6', '8', '5', '3', '7', '9', '1']\n",
      "['7', '1', '3', '9', '2', '4', '8', '5', '6']\n",
      "['9', '6', '1', '5', '3', '7', '2', '8', '4']\n",
      "['2', '8', '7', '4', '1', '9', '6', '3', '5']\n",
      "['3', '4', '5', '2', '8', '6', '1', '7', '9']\n"
     ]
    }
   ],
   "source": [
    "def isPossible(board, x, y, value):\n",
    "            # Same row checking \n",
    "            for col in range(9):\n",
    "                if board[x][col] == str(value):\n",
    "                    return False\n",
    " \n",
    "            # Same col checking\n",
    "            for row in range(9):\n",
    "                if board[row][y] == str(value):\n",
    "                    return False\n",
    " \n",
    "            # Same 3 * 3 matrix checking \n",
    "            topRow = (x // 3) * 3 \n",
    "            topCol = (y // 3) * 3 \n",
    " \n",
    "            for i in range(3):\n",
    "                for j in range(3):\n",
    "                    if board[topRow + i][topCol + j] == str(value):\n",
    "                        return False\n",
    "            return True\n",
    " \n",
    "def solveThis(x, y, board):\n",
    "        #print(x, y, board)\n",
    "        if x == 9:\n",
    "            return True\n",
    " \n",
    "        nextX, nextY = 0, 0 \n",
    " \n",
    "        if y == 8:\n",
    "            nextX = x + 1 \n",
    "            nextY = 0 \n",
    "        else:\n",
    "            nextX = x \n",
    "            nextY = y + 1\n",
    " \n",
    "        if board[x][y] != \".\":\n",
    "            return solveThis(nextX, nextY, board)\n",
    " \n",
    "        for value in range(1, 10):\n",
    "            if isPossible(board, x, y, value) == True:\n",
    "                board[x][y] = str(value)\n",
    "                #print(board)\n",
    "                #print()\n",
    "                #print()\n",
    "                if solveThis(nextX, nextY, board):\n",
    "                    return True\n",
    "                board[x][y] = \".\"\n",
    " \n",
    "        return False\n",
    "        \n",
    "board = [\n",
    "    [\".\",\"3\",\".\",\".\",\"7\",\".\",\".\",\".\",\".\"],\n",
    "    [\"6\",\".\",\".\",\"1\",\"9\",\"5\",\".\",\".\",\".\"],\n",
    "    [\".\",\".\",\"8\",\".\",\".\",\".\",\".\",\"6\",\".\"],\n",
    "    [\"8\",\".\",\".\",\".\",\"6\",\".\",\".\",\".\",\"3\"],\n",
    "    [\"4\",\".\",\".\",\"8\",\".\",\"3\",\".\",\".\",\"1\"],\n",
    "    [\"7\",\".\",\".\",\".\",\"2\",\".\",\".\",\".\",\"6\"],\n",
    "    [\".\",\"6\",\".\",\".\",\".\",\".\",\"2\",\"8\",\".\"],\n",
    "    [\".\",\".\",\".\",\"4\",\"1\",\"9\",\".\",\".\",\"5\"],\n",
    "    [\".\",\".\",\".\",\".\",\"8\",\".\",\".\",\"7\",\"9\"]\n",
    "]\n",
    "\n",
    "a=solveThis(0, 0, board)\n",
    "if a==True:\n",
    "    for row in board:\n",
    "        print(row)\n",
    "else:\n",
    "    print(\"No solution found\")"
   ]
  },
  {
   "cell_type": "code",
   "execution_count": 3,
   "id": "1cec067e-ad86-4500-94a5-7e60f092744e",
   "metadata": {},
   "outputs": [
    {
     "name": "stdout",
     "output_type": "stream",
     "text": [
      "[['..Q.', 'Q...', '...Q', '.Q..'], ['.Q..', '...Q', 'Q...', '..Q.']]\n"
     ]
    }
   ],
   "source": [
    "#10\n",
    "class Solution(object):\n",
    " \n",
    "    def isPossible(self, row, col, board, n):\n",
    "        # Check-1 --> same row, left cols\n",
    "        prevCol = col - 1\n",
    "        while prevCol >= 0:\n",
    "            if board[row][prevCol] == 1:\n",
    "                return False \n",
    "            prevCol -= 1\n",
    " \n",
    "        # Check-2 --> left upper diagnol \n",
    "        prevRow, prevCol = row - 1, col - 1 \n",
    "        while prevRow >= 0 and prevCol >= 0:\n",
    "            if board[prevRow][prevCol] == 1:\n",
    "                return False \n",
    "            prevRow -= 1 \n",
    "            prevCol -= 1\n",
    " \n",
    "        # Check-3 --> left lower diagnol\n",
    "        nextRow, prevCol = row + 1, col - 1 \n",
    "        while nextRow < n and prevCol >= 0:\n",
    "            if board[nextRow][prevCol] == 1:\n",
    "                return False \n",
    "            nextRow += 1 \n",
    "            prevCol -= 1\n",
    " \n",
    "        return True\n",
    " \n",
    " \n",
    " \n",
    " \n",
    "    def solveThis(self, col, n, board, result):\n",
    "        if col == n:\n",
    "            # append to result\n",
    "            currResult = []\n",
    "            for i in range(n):\n",
    "                word = \"\"\n",
    "                for j in range(n):\n",
    "                    if board[i][j] == 1:\n",
    "                        word += \"Q\"\n",
    "                    else:\n",
    "                        word += \".\"\n",
    "                currResult.append(word)\n",
    "            result.append(currResult)\n",
    "            return\n",
    " \n",
    "        for row in range(n):\n",
    "            if self.isPossible(row, col, board, n) == True:\n",
    "                board[row][col] = 1 \n",
    "                a=self.solveThis(col + 1, n, board, result)\n",
    "                board[row][col] = 0\n",
    "        return False\n",
    " \n",
    " \n",
    " \n",
    "    def solveNQueens(self, n):\n",
    "        result = []\n",
    "        board = []\n",
    "        for i in range(n):\n",
    "            row = []\n",
    "            for j in range(n):\n",
    "                row.append(0)\n",
    "            board.append(row)\n",
    " \n",
    "        self.solveThis(0, n, board, result)\n",
    "        return result\n",
    "a=Solution()\n",
    "print(a.solveNQueens(4))"
   ]
  },
  {
   "cell_type": "code",
   "execution_count": 19,
   "id": "a2f324c4-b752-4cb6-9335-904fb4bddf2b",
   "metadata": {},
   "outputs": [
    {
     "name": "stdout",
     "output_type": "stream",
     "text": [
      "5\n"
     ]
    }
   ],
   "source": [
    "def countsol(i,n,c):\n",
    "    if i>=n:\n",
    "        return 1\n",
    "    co=0\n",
    "    co+=countsol(i+1,n,c)\n",
    "    co+=countsol(i+2,n,c)\n",
    "    return co\n",
    "n=4\n",
    "print(countsol(1,n,[10,15,20,25,30]))"
   ]
  },
  {
   "cell_type": "code",
   "execution_count": 20,
   "id": "919aa726-c2e8-43ec-9a0b-507710c6fb81",
   "metadata": {},
   "outputs": [
    {
     "name": "stdout",
     "output_type": "stream",
     "text": [
      "Can reach\n"
     ]
    }
   ],
   "source": [
    "#11\n",
    "def isPossible(x1, y1, x2, y2, N):\n",
    "    if x1 < 0 or y1 < 0 or x1 >= N or y1 >= N:\n",
    "        return False \n",
    "    elif x1 == x2 and y1 == y2:\n",
    "        return True \n",
    " \n",
    "    dx = []\n",
    "    dy = []\n",
    "    for i in range(8):\n",
    "        newX = x1 + dx[i] \n",
    "        newY = y1 + dy[i]\n",
    "        result = isPossible(newX, newY, x2, y2, N)\n",
    "        if result == True:\n",
    "            return True \n",
    "    return False\n",
    " \n",
    " \n",
    "result = isPossible(0, 1, 0, 1, 3)\n",
    "if result == True:\n",
    "    print(\"Can reach\")\n",
    "else:\n",
    "    print(\"Cannot reach\")"
   ]
  }
 ],
 "metadata": {
  "kernelspec": {
   "display_name": "Python 3 (ipykernel)",
   "language": "python",
   "name": "python3"
  },
  "language_info": {
   "codemirror_mode": {
    "name": "ipython",
    "version": 3
   },
   "file_extension": ".py",
   "mimetype": "text/x-python",
   "name": "python",
   "nbconvert_exporter": "python",
   "pygments_lexer": "ipython3",
   "version": "3.11.3"
  }
 },
 "nbformat": 4,
 "nbformat_minor": 5
}
